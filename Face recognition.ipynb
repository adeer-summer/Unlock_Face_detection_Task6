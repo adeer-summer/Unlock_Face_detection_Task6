{
 "cells": [
  {
   "cell_type": "markdown",
   "metadata": {},
   "source": [
    "# Sample collection"
   ]
  },
  {
   "cell_type": "code",
   "execution_count": 3,
   "metadata": {},
   "outputs": [
    {
     "name": "stdout",
     "output_type": "stream",
     "text": [
      "Face not found\n",
      "Face not found\n",
      "Face not found\n",
      "Face not found\n",
      "Face not found\n",
      "Face not found\n",
      "Face not found\n",
      "Face not found\n",
      "Collecting Samples Complete\n"
     ]
    }
   ],
   "source": [
    "import cv2\n",
    "import numpy as np\n",
    "\n",
    "# Load HAAR face classifier\n",
    "face_classifier = cv2.CascadeClassifier('haarcascade_frontalface_default.xml')\n",
    "\n",
    "# Load functions\n",
    "def face_extractor(img):\n",
    "    # Function detects faces and returns the cropped face\n",
    "    # If no face detected, it returns the input image\n",
    "    \n",
    "    gray = cv2.cvtColor(img,cv2.COLOR_BGR2GRAY)\n",
    "    faces = face_classifier.detectMultiScale(gray, 1.3, 5)\n",
    "    \n",
    "    if faces is ():\n",
    "        return None\n",
    "    \n",
    "    # Crop all faces found\n",
    "    for (x,y,w,h) in faces:\n",
    "        cropped_face = img[y:y+h, x:x+w]\n",
    "\n",
    "    return cropped_face\n",
    "\n",
    "# Initialize Webcam\n",
    "cap = cv2.VideoCapture(0)\n",
    "count = 0\n",
    "\n",
    "# Collect 100 samples of your face from webcam input\n",
    "while True:\n",
    "\n",
    "    ret, frame = cap.read()\n",
    "    if face_extractor(frame) is not None:\n",
    "        count += 1\n",
    "        face = cv2.resize(face_extractor(frame), (200, 200))\n",
    "        face = cv2.cvtColor(face, cv2.COLOR_BGR2GRAY)\n",
    "\n",
    "        # Save file in specified directory with unique name\n",
    "        file_name_path = './faces/myDatS/'+ 'MyPhoto' + str(count) + '.jpg'\n",
    "        cv2.imwrite(file_name_path, face)\n",
    "\n",
    "        # Put count on images and display live count\n",
    "        cv2.putText(face, str(count), (50, 50), cv2.FONT_HERSHEY_COMPLEX, 1, (0,255,0), 2)\n",
    "        cv2.imshow('Face Cropper', face)\n",
    "        \n",
    "    else:\n",
    "        print(\"Face not found\")\n",
    "        pass\n",
    "\n",
    "    if cv2.waitKey(5) == 13 or count == 100: #13 is the Enter Key\n",
    "        break\n",
    "        \n",
    "cap.release()\n",
    "cv2.destroyAllWindows()      \n",
    "print(\"Collecting Samples Complete\")"
   ]
  },
  {
   "cell_type": "code",
   "execution_count": 4,
   "metadata": {},
   "outputs": [],
   "source": [
    "#Import libraries\n",
    "import cv2\n",
    "import smtplib \n",
    "#import pywhatkit\n",
    "import boto3\n",
    "import time\n",
    "import numpy as np\n",
    "from os import listdir\n",
    "from os.path import isfile, join\n",
    "import os"
   ]
  },
  {
   "cell_type": "code",
   "execution_count": 5,
   "metadata": {},
   "outputs": [],
   "source": [
    "import pywhatkit as whtats\n",
    "import time"
   ]
  },
  {
   "cell_type": "code",
   "execution_count": 6,
   "metadata": {},
   "outputs": [],
   "source": [
    "## This function recalculate the time passed to the pywhatkit's function used to send the message \n",
    "def timeClear(timeInSec,secs):\n",
    "    timeInSec=int(timeInSec)\n",
    "    secs=int(secs)\n",
    "    if secs >=30:\n",
    "        timeInSec += 120\n",
    "    else:\n",
    "        timeInSec += 60   \n",
    "    return time.localtime(timeInSec) ## conver time in date\n",
    "\n",
    "## Our Phone Numbers\n",
    "phNo = ['+917509490428', '+918580801728', '+919039318060', '+917250731457', '+917703042310', '+918580459580' ]\n",
    "\n",
    "sendEmAddrs=['abcdriche@gmail.com',]\n",
    "\n",
    "receivEmAddrs=['abcdriche@gmail.com',]"
   ]
  },
  {
   "cell_type": "markdown",
   "metadata": {},
   "source": [
    "# Model Training"
   ]
  },
  {
   "cell_type": "code",
   "execution_count": 7,
   "metadata": {},
   "outputs": [
    {
     "name": "stdout",
     "output_type": "stream",
     "text": [
      "Model trained sucessefully\n"
     ]
    }
   ],
   "source": [
    "import cv2\n",
    "import numpy as np\n",
    "from os import listdir\n",
    "from os.path import isfile, join\n",
    "\n",
    "# Get the training data we previously made\n",
    "data_path = './faces/myDatS/'\n",
    "onlyfiles = [f for f in listdir(data_path) if isfile(join(data_path, f))]\n",
    "\n",
    "# Create arrays for training data and labels\n",
    "Training_Data, Labels = [], []\n",
    "\n",
    "# Open training images in our datapath\n",
    "# Create a numpy array for training data\n",
    "for i, files in enumerate(onlyfiles):\n",
    "    image_path = data_path + onlyfiles[i]\n",
    "    images = cv2.imread(image_path, cv2.IMREAD_GRAYSCALE)\n",
    "    Training_Data.append(np.asarray(images, dtype=np.uint8))\n",
    "    Labels.append(i)\n",
    "\n",
    "# Create a numpy array for both training data and labels\n",
    "Labels = np.asarray(Labels, dtype=np.int32)\n",
    "\n",
    "# Initialize facial recognizer\n",
    "# model = cv2.face.createLBPHFaceRecognizer()\n",
    "# NOTE: For OpenCV 3.0 use cv2.face.createLBPHFaceRecognizer()\n",
    "# pip install opencv-contrib-python\n",
    "# model = cv2.createLBPHFaceRecognizer()\n",
    "\n",
    "richard_model  = cv2.face_LBPHFaceRecognizer.create()\n",
    "# Let's train our model \n",
    "richard_model.train(np.asarray(Training_Data), np.asarray(Labels))\n",
    "print(\"Model trained sucessefully\")\n"
   ]
  },
  {
   "cell_type": "markdown",
   "metadata": {},
   "source": [
    "# Deployement in live system"
   ]
  },
  {
   "cell_type": "code",
   "execution_count": null,
   "metadata": {},
   "outputs": [
    {
     "name": "stdout",
     "output_type": "stream",
     "text": [
      "Login successfully...\n",
      "Successfully sent email\n",
      "Login successfully...\n",
      "Successfully sent email\n",
      "Login successfully...\n",
      "Successfully sent email\n",
      "Login successfully...\n",
      "Successfully sent email\n",
      "Login successfully...\n",
      "Successfully sent email\n",
      "Login successfully...\n",
      "Successfully sent email\n",
      "Login successfully...\n",
      "Successfully sent email\n",
      "Login successfully...\n",
      "Successfully sent email\n",
      "Login successfully...\n",
      "Successfully sent email\n",
      "Login successfully...\n",
      "Successfully sent email\n",
      "Login successfully...\n",
      "Successfully sent email\n",
      "Login successfully...\n",
      "Successfully sent email\n",
      "Login successfully...\n",
      "Successfully sent email\n",
      "Login successfully...\n",
      "Successfully sent email\n",
      "Login successfully...\n",
      "Successfully sent email\n",
      "Login successfully...\n",
      "Successfully sent email\n",
      "Login successfully...\n",
      "Successfully sent email\n",
      "Login successfully...\n",
      "Successfully sent email\n"
     ]
    }
   ],
   "source": [
    "import cv2\n",
    "import numpy as np\n",
    "import os\n",
    "\n",
    "\n",
    "face_classifier = cv2.CascadeClassifier('haarcascade_frontalface_default.xml')\n",
    "\n",
    "def face_detector(img, size=0.5):\n",
    "    \n",
    "    # Convert image to grayscale\n",
    "    gray = cv2.cvtColor(img,cv2.COLOR_BGR2GRAY)\n",
    "    faces = face_classifier.detectMultiScale(gray, 1.3, 5)\n",
    "    if faces is ():\n",
    "        return img, []\n",
    "    \n",
    "    \n",
    "    for (x,y,w,h) in faces:\n",
    "        cv2.rectangle(img,(x,y),(x+w,y+h),(0,255,255),2)\n",
    "        roi = img[y:y+h, x:x+w]\n",
    "        roi = cv2.resize(roi, (200, 200))\n",
    "    return img, roi\n",
    "\n",
    "\n",
    "# Open Webcam\n",
    "cap = cv2.VideoCapture(0)\n",
    "\n",
    "while True:\n",
    "\n",
    "    ret, frame = cap.read()\n",
    "    \n",
    "    image, face = face_detector(frame)\n",
    "    \n",
    "    try:\n",
    "        face = cv2.cvtColor(face, cv2.COLOR_BGR2GRAY)\n",
    "\n",
    "        # Pass face to prediction model\n",
    "        # \"results\" comprises of a tuple containing the label and the confidence value\n",
    "        results = richard_model.predict(face)\n",
    "        # harry_model.predict(face)\n",
    "        \n",
    "        if results[1] < 500:\n",
    "            confidence = int( 100 * (1 - (results[1])/400) )\n",
    "            display_string = str(confidence) + '% Confident it is User'\n",
    "            \n",
    "        cv2.putText(image, display_string, (100, 120), cv2.FONT_HERSHEY_COMPLEX, 1, (255,120,150), 2)\n",
    "        \n",
    "        if confidence > 70:\n",
    "            cv2.putText(image, \"Hi Mr. RICHARD\", (250, 450), cv2.FONT_HERSHEY_COMPLEX, 1, (0,255,0), 2)\n",
    "            cv2.imshow('Face Recognition', image )\n",
    "            # os.system(\"chrome https://www.google.com/search?q=vimal+daga\")\n",
    "            #os.system(\"wmplayer   c:\\lw.mp3\")\n",
    "            #break\n",
    "                        ######## Send me mail when face detected\n",
    "            ### For that you have to import smtplib library and install it before with \"pip install secure-smtplib\"\n",
    "#             ec2 = boto3.resource('ec2')  #Establish connection to ec2 instance   \n",
    "#             instance = ec2.create_instances(\n",
    "#                     ImageId = 'ami-0ad704c126371a549',  # use the AMI-linux type image\n",
    "#                     MinCount = 1,\n",
    "#                     MaxCount = 1,\n",
    "#                     InstanceType = 't2.micro',\n",
    "#                     KeyName = 'key-for-rdp-os',  # try use the key pair available on aws acc\n",
    "#                     SubnetId = 'subnet-2762834c')\n",
    "            \n",
    "#             instance_id = instance[0].id\n",
    "#             print (\"The instance id is: \", instance_id)  #instance[0].id)\n",
    "#             print()\n",
    "#             time.sleep(5)\n",
    "#             conn = boto3.ec2.connect_to_region(\"ap-south-1\")\n",
    "#             ###To stop instance with boto    \n",
    "#             #stop = conn.stop_instances(instance_ids= instance_id) #['i-0638b07266fd59322'])\n",
    "#             #print(\"The stopped instance is: \", stop)\n",
    "#             ## create volume of 5Gb     \n",
    "#             vol = conn.create_volume(5, \"ap-south-1a\") #launch EBS volume of 5GB\n",
    "#             print(\"Launched Volume is: \", vol)\n",
    "#             print()\n",
    "#             ##get The status of the volume available or not\n",
    "#             curr_vol = conn.get_all_volumes([vol.id])[0]   # get all volumes availables\n",
    "#             s = curr_vol.status          # get the status of volume launched\n",
    "#             print(\"Volume Status: \", s)\n",
    "#             print()\n",
    "#             #Attach the volume created \n",
    "#             #if curr_vol is  None:\n",
    "#             time.sleep(100)\n",
    "#             conn.attach_volume (vol.id, instance_id, \"/dev/sdx\")  #Attach a volume to my instance created above\n",
    "#             print(\"Volume successfully attached...\")\n",
    "#             print(\"Task Completed !!!!\")\n",
    "#             break    \n",
    "            \n",
    "            \n",
    "            sender = \"abcdriche@gmail.com\"             #Put ur mail id\n",
    "            receiver = ['cartersedmund@gmail.com']       #Put the receiver mail id here \n",
    "                            #pas = getpass.getpass()\n",
    "            passwd =  open('pwd.txt', 'r').read()   #read from my local-file the passwd to access my gmail\n",
    "\n",
    "            message = \"\"\"From: From SENDER_NAME <abcdriche@gmail.com>\n",
    "                                        To: RECEIVER_NAME <cartersedmund@gmail.com>\n",
    "                                        Subject: Face Unlock Detected\n",
    "                                        This is a test message To unlock Your device.....\n",
    "                            \"\"\"\n",
    "            try:\n",
    "            #smtpObj = smtplib.SMTP('localhost')\n",
    "                smtpObj = smtplib.SMTP('smtp.gmail.com', 587)  # Establish a connection to the gmail smtp server\n",
    "                smtpObj.starttls()    #Establish a secure connection\n",
    "                smtpObj.login(sender, passwd)   #login to my gmail acc to send an email\n",
    "                print(\"Login successfully...\")\n",
    "\n",
    "                smtpObj.sendmail(sender, receiver, message)   # send mail to receiver      \n",
    "                print (\"Successfully sent email\")\n",
    "\n",
    "            except SMTPException: \n",
    "                print (\"Error: unable to send email\")\n",
    "                print()\n",
    "\n",
    "                 ######### Send also whatsapp message to my friend  \n",
    "                ### For that we import module pywhatkit , install it with \"pip install pywhatkit\"\n",
    "            try:\n",
    "                for i in phNo:\n",
    "                    t = time.localtime()  ## Get Time in formatted form \n",
    "                    now = time.time() ## Get Time in seconds \n",
    "\n",
    "                    ##hours=t.tm_hour  ## Extract number of hours\n",
    "                    #mins=t.tm_min    ## Extract number of minutes\n",
    "                    secs=t.tm_sec   ## Extract number of seconds\n",
    "\n",
    "                    t_F=timeClear(now, secs) \n",
    "\n",
    "                    hours_F=t_F.tm_hour\n",
    "                    mins_F=t_F.tm_min\n",
    "                    secs_F=t_F.tm_sec\n",
    "                    k.sendwhatmsg(i, \n",
    "                                      \"A face has been detected\",\n",
    "                                      hours_F, \n",
    "                                      mins_F,\n",
    "                                      wait_time= 35,\n",
    "                                      tab_close=True\n",
    "                                     )\n",
    "            except:\n",
    "                continue\n",
    "            break\n",
    "         \n",
    "        else:\n",
    "            cv2.putText(image, \"Sorry! who are you?\", (250, 450), cv2.FONT_HERSHEY_COMPLEX, 1, (0,0,255), 2)\n",
    "            cv2.imshow('Face Recognition', image )\n",
    "            print(\" Your are not Owner, so w'll start Launch an  ec2 instance......!!! \")\n",
    "            \n",
    "            # Launch an ec2 instances to my aws account       \n",
    "            ec2 = boto3.resource('ec2')  #Establish connection to ec2 instance   \n",
    "            instance = ec2.create_instances(\n",
    "                    ImageId = 'ami-0ad704c126371a549',  # use the AMI-linux type image\n",
    "                    MinCount = 1,\n",
    "                    MaxCount = 1,\n",
    "                    InstanceType = 't2.micro',\n",
    "                    KeyName = 'key-for-rdp-os',  # try use the key pair available on aws acc\n",
    "                    SubnetId = 'subnet-2762834c')\n",
    "            \n",
    "            instance_id = instance[0].id\n",
    "            print (\"The instance id is: \", instance_id)  #instance[0].id)\n",
    "            print()\n",
    "            time.sleep(5)\n",
    "            \n",
    "            conn = boto3.ec2.connect_to_region(\"ap-south-1\")\n",
    "            \n",
    "            ###To stop instance with boto    \n",
    "            #stop = conn.stop_instances(instance_ids= instance_id) #['i-0638b07266fd59322'])\n",
    "            #print(\"The stopped instance is: \", stop)\n",
    "            \n",
    "            ## create volume of 5Gb     \n",
    "            vol = conn.create_volume(5, \"ap-south-1a\") #launch EBS volume of 5GB\n",
    "            print(\"Launched Volume is: \", vol)\n",
    "            print()\n",
    "            \n",
    "            ##get The status of the volume available or not\n",
    "            curr_vol = conn.get_all_volumes([vol.id])[0]   # get all volumes availables\n",
    "            s = curr_vol.status          # get the status of volume launched\n",
    "            print(\"Volume Status: \", s)\n",
    "            print()\n",
    "            \n",
    "            #Attach the volume created \n",
    "            #if curr_vol is  None:\n",
    "            time.sleep(100)\n",
    "            conn.attach_volume (vol.id, instance_id, \"/dev/sdx\")  #Attach a volume to my instance created above\n",
    "            print(\"Volume successfully attached...\")\n",
    "            print(\"Task Completed !!!!\")\n",
    "            break    \n",
    "            \n",
    "\n",
    "    except:\n",
    "        cv2.putText(image, \"No Face Found\", (220, 120) , cv2.FONT_HERSHEY_COMPLEX, 1, (0,0,255), 2)\n",
    "        cv2.putText(image, \"looking for face\", (250, 450), cv2.FONT_HERSHEY_COMPLEX, 1, (0,0,255), 2)\n",
    "        cv2.imshow('Face Recognition', image )\n",
    "        pass\n",
    "        \n",
    "    if cv2.waitKey(1) == 13: #13 is the Enter Key\n",
    "        break\n",
    "        \n",
    "cap.release()\n",
    "cv2.destroyAllWindows()     "
   ]
  },
  {
   "cell_type": "code",
   "execution_count": null,
   "metadata": {},
   "outputs": [],
   "source": [
    "ret"
   ]
  },
  {
   "cell_type": "code",
   "execution_count": null,
   "metadata": {},
   "outputs": [],
   "source": [
    "type(ret)"
   ]
  },
  {
   "cell_type": "code",
   "execution_count": null,
   "metadata": {},
   "outputs": [],
   "source": [
    "import pywhatkit as k"
   ]
  },
  {
   "cell_type": "code",
   "execution_count": null,
   "metadata": {},
   "outputs": [],
   "source": [
    "from datetime import datetime"
   ]
  },
  {
   "cell_type": "code",
   "execution_count": null,
   "metadata": {},
   "outputs": [],
   "source": [
    "now = datetime.now()"
   ]
  },
  {
   "cell_type": "code",
   "execution_count": null,
   "metadata": {},
   "outputs": [],
   "source": [
    "#dir(datetime)"
   ]
  },
  {
   "cell_type": "code",
   "execution_count": null,
   "metadata": {},
   "outputs": [],
   "source": [
    "type(now)"
   ]
  },
  {
   "cell_type": "code",
   "execution_count": null,
   "metadata": {},
   "outputs": [],
   "source": [
    "now"
   ]
  },
  {
   "cell_type": "code",
   "execution_count": null,
   "metadata": {},
   "outputs": [],
   "source": [
    "current_time = now.strftime(\"%H:%M:%S\")\n",
    "print(\"Current Time =\", current_time)"
   ]
  },
  {
   "cell_type": "code",
   "execution_count": null,
   "metadata": {},
   "outputs": [],
   "source": [
    "type(current_time)"
   ]
  },
  {
   "cell_type": "code",
   "execution_count": null,
   "metadata": {},
   "outputs": [],
   "source": [
    "phNo = ['+917509490428', '+918580801728', '+919039318060', '+917250731457', '+917703042310', '+918580459580' ]"
   ]
  },
  {
   "cell_type": "code",
   "execution_count": null,
   "metadata": {},
   "outputs": [],
   "source": [
    "import time"
   ]
  },
  {
   "cell_type": "code",
   "execution_count": null,
   "metadata": {},
   "outputs": [],
   "source": [
    "#dir(time)"
   ]
  },
  {
   "cell_type": "code",
   "execution_count": null,
   "metadata": {},
   "outputs": [],
   "source": [
    "t = time.localtime()"
   ]
  },
  {
   "cell_type": "code",
   "execution_count": null,
   "metadata": {},
   "outputs": [],
   "source": [
    "t"
   ]
  },
  {
   "cell_type": "code",
   "execution_count": null,
   "metadata": {},
   "outputs": [],
   "source": [
    "type(t.tm_hour)"
   ]
  },
  {
   "cell_type": "code",
   "execution_count": null,
   "metadata": {},
   "outputs": [],
   "source": [
    "t_convr=time.strftime(\"%H:%M:%S\", t)"
   ]
  },
  {
   "cell_type": "code",
   "execution_count": null,
   "metadata": {},
   "outputs": [],
   "source": [
    "hour, minut, sec = t_convr.split(sep=':')"
   ]
  },
  {
   "cell_type": "code",
   "execution_count": null,
   "metadata": {},
   "outputs": [],
   "source": [
    "hour"
   ]
  },
  {
   "cell_type": "code",
   "execution_count": null,
   "metadata": {},
   "outputs": [],
   "source": [
    "minut"
   ]
  },
  {
   "cell_type": "code",
   "execution_count": null,
   "metadata": {},
   "outputs": [],
   "source": [
    "minut=int(minut)"
   ]
  },
  {
   "cell_type": "code",
   "execution_count": null,
   "metadata": {},
   "outputs": [],
   "source": [
    "type(minut)"
   ]
  },
  {
   "cell_type": "code",
   "execution_count": null,
   "metadata": {},
   "outputs": [],
   "source": [
    "type(t_convr)"
   ]
  },
  {
   "cell_type": "code",
   "execution_count": null,
   "metadata": {},
   "outputs": [],
   "source": [
    "# def timeClear(timeInSec,secs):\n",
    "#     timeInSec=int(timeInSec)\n",
    "#     secs=int(secs)\n",
    "#     if secs >=30:\n",
    "#         timeInSec += 120\n",
    "#     else:\n",
    "#         timeInSec += 60   \n",
    "#     return time.localtime(timeInSec) ## conver time in date"
   ]
  },
  {
   "cell_type": "code",
   "execution_count": null,
   "metadata": {},
   "outputs": [],
   "source": [
    "# def sendeMail():\n",
    "#     sender = \"XXX-XXX@gmail.com\"             #Put ur mail id\n",
    "#     receivers = ['XXX-XXX@gmail.com']       #Put the receiver mail id here \n",
    "#     #pas = getpass.getpass()\n",
    "#     passwd =  open('pwd.txt', 'r').read()   #read from my local-file the passwd to access my gmail\n",
    "\n",
    "#     message = \"\"\"From: From SENDER_NAME <XXX-XXX@gmail.com>\n",
    "#                 To: RECEIVER_NAME <XXX-XXX@gmail.com>\n",
    "#                 Subject: Face Unlock Detected\n",
    "\n",
    "#                 This is a test message To unlock Your device.....\n",
    "#                         \"\"\"\n",
    "#     try:\n",
    "#     #smtpObj = smtplib.SMTP('localhost')\n",
    "#         smtpObj = smtplib.SMTP('smtp.gmail.com', 587)  # Establish a connection to the gmail smtp server\n",
    "#         smtpObj.starttls()    #Establish a secure connection\n",
    "#         smtpObj.login(sender, passwd)   #login to my gmail acc to send an email\n",
    "#         print(\"Login successfully...\")\n",
    "    \n",
    "#         smtpObj.sendmail(sender, receivers, message)   # send mail to receiver      \n",
    "#         print (\"Successfully sent email\")\n",
    "\n",
    "#     except SMTPException: \n",
    "#         print (\"Error: unable to send email\")\n",
    "#         print()"
   ]
  },
  {
   "cell_type": "code",
   "execution_count": null,
   "metadata": {},
   "outputs": [],
   "source": [
    "phN = [ \n",
    "   # '+918580801728', \n",
    "    '+918580459580' ]"
   ]
  },
  {
   "cell_type": "code",
   "execution_count": null,
   "metadata": {},
   "outputs": [],
   "source": [
    "messag=\"\"\"\" \"\"\"\""
   ]
  },
  {
   "cell_type": "code",
   "execution_count": null,
   "metadata": {},
   "outputs": [],
   "source": [
    "t = time.localtime()"
   ]
  },
  {
   "cell_type": "code",
   "execution_count": null,
   "metadata": {},
   "outputs": [],
   "source": [
    "hours=t.tm_hour"
   ]
  },
  {
   "cell_type": "code",
   "execution_count": null,
   "metadata": {},
   "outputs": [],
   "source": [
    "mins=t.tm_min"
   ]
  },
  {
   "cell_type": "code",
   "execution_count": null,
   "metadata": {},
   "outputs": [],
   "source": [
    "secs=t.tm_sec"
   ]
  },
  {
   "cell_type": "code",
   "execution_count": null,
   "metadata": {},
   "outputs": [],
   "source": []
  },
  {
   "cell_type": "code",
   "execution_count": null,
   "metadata": {},
   "outputs": [],
   "source": [
    "now = time.time() #get current time in second"
   ]
  },
  {
   "cell_type": "code",
   "execution_count": null,
   "metadata": {},
   "outputs": [],
   "source": [
    "now"
   ]
  },
  {
   "cell_type": "code",
   "execution_count": null,
   "metadata": {},
   "outputs": [],
   "source": [
    "time.localtime(now)"
   ]
  },
  {
   "cell_type": "code",
   "execution_count": null,
   "metadata": {},
   "outputs": [],
   "source": [
    "con=timeClear(now, 29) ## conver time in date"
   ]
  },
  {
   "cell_type": "code",
   "execution_count": null,
   "metadata": {},
   "outputs": [],
   "source": [
    "con"
   ]
  },
  {
   "cell_type": "code",
   "execution_count": null,
   "metadata": {},
   "outputs": [],
   "source": [
    "type(con)"
   ]
  },
  {
   "cell_type": "code",
   "execution_count": null,
   "metadata": {},
   "outputs": [],
   "source": [
    "# for i in phN:\n",
    "#     t = time.localtime()  ## Get Time in formatted form \n",
    "#     now = time.time() ## Get Time in seconds \n",
    "    \n",
    "#     hours=t.tm_hour  ## Extract number of hours\n",
    "#     mins=t.tm_min    ## Extract number of minutes\n",
    "#     secs=t.tm_sec   ## Extract number of seconds\n",
    "    \n",
    "#     t_F=timeClear(now, secs) \n",
    "    \n",
    "#     hours_F=t_F.tm_hour\n",
    "#     mins_F=t_F.tm_min\n",
    "#     secs_F=t_F.tm_sec\n",
    "#     k.sendwhatmsg(i, \n",
    "#                   \"A face has been detected\",\n",
    "#                   hours_F, \n",
    "#                   mins_F,\n",
    "#                   wait_time= 35,\n",
    "#                   tab_close=True\n",
    "#                  )\n",
    "#     print()\n",
    "#     print()"
   ]
  },
  {
   "cell_type": "code",
   "execution_count": null,
   "metadata": {},
   "outputs": [],
   "source": [
    "# for i in phN:\n",
    "#     t = time.localtime()\n",
    "#     t_convr=time.strftime(\"%H:%M:%S\", t)\n",
    "#     hour, minut, sec = t_convr.split(sep=':')\n",
    "#     hour = t.\n",
    "#     minut = int(minut)\n",
    "#     sec = int(sec)\n",
    "#     k.sendwhatmsg(i, \n",
    "#                   \"A face has been detected\",\n",
    "#                   hour, \n",
    "#                   minut+2,\n",
    "#                   wait_time= 35,\n",
    "#                   tab_close=True\n",
    "#                  )"
   ]
  },
  {
   "cell_type": "code",
   "execution_count": null,
   "metadata": {},
   "outputs": [],
   "source": []
  },
  {
   "cell_type": "code",
   "execution_count": null,
   "metadata": {},
   "outputs": [],
   "source": [
    "# t = time.localtime()  ## Get Time in formatted form \n",
    "# now = time.time() \n",
    "# co=time.localtime(now)"
   ]
  },
  {
   "cell_type": "code",
   "execution_count": null,
   "metadata": {},
   "outputs": [],
   "source": [
    "t"
   ]
  },
  {
   "cell_type": "code",
   "execution_count": null,
   "metadata": {},
   "outputs": [],
   "source": [
    "co"
   ]
  },
  {
   "cell_type": "code",
   "execution_count": null,
   "metadata": {},
   "outputs": [],
   "source": [
    "hour_f = 0 if hours==23 and mins"
   ]
  },
  {
   "cell_type": "code",
   "execution_count": null,
   "metadata": {},
   "outputs": [],
   "source": [
    "# #if hours < 23\n",
    "#  #   if mins<59:\n",
    "#         if sec >= 30:\n",
    "            \n",
    "#                  minut = minut+2,\n",
    "                  \n",
    "\n",
    "#         else:\n",
    "             \n",
    "#                  minut = minut+1,\n",
    "                \n",
    "\n",
    "#     else:\n",
    "\n",
    "    "
   ]
  },
  {
   "cell_type": "code",
   "execution_count": null,
   "metadata": {},
   "outputs": [],
   "source": [
    "# k.sendwhatmsg(\"+91 8580459580\", \"I love studytonight.com!\", 0, 50,\n",
    "#               wait_time= 35,tab_close=True)"
   ]
  },
  {
   "cell_type": "code",
   "execution_count": null,
   "metadata": {},
   "outputs": [],
   "source": [
    "# t = time.localtime()\n",
    "# t_convr=time.strftime(\"%H:%M:%S\", t)\n",
    "# t_convr"
   ]
  },
  {
   "cell_type": "code",
   "execution_count": null,
   "metadata": {},
   "outputs": [],
   "source": [
    "# print(23 % 24)"
   ]
  },
  {
   "cell_type": "code",
   "execution_count": null,
   "metadata": {},
   "outputs": [],
   "source": [
    "# convert = time.strftime(\"%H:%M:%S\", time.gmtime(seconds))"
   ]
  }
 ],
 "metadata": {
  "kernelspec": {
   "display_name": "Python 3",
   "language": "python",
   "name": "python3"
  },
  "language_info": {
   "codemirror_mode": {
    "name": "ipython",
    "version": 3
   },
   "file_extension": ".py",
   "mimetype": "text/x-python",
   "name": "python",
   "nbconvert_exporter": "python",
   "pygments_lexer": "ipython3",
   "version": "3.7.6"
  }
 },
 "nbformat": 4,
 "nbformat_minor": 4
}
